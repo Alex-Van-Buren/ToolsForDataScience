{
 "cells": [
  {
   "attachments": {},
   "cell_type": "markdown",
   "id": "d9fb681c-583b-4cfa-b3e7-a11a7647950e",
   "metadata": {
    "tags": []
   },
   "source": [
    "# Data Science Tools and Ecosystem"
   ]
  },
  {
   "attachments": {},
   "cell_type": "markdown",
   "id": "0618d69a-65d1-4420-abc7-384b6fda6a63",
   "metadata": {},
   "source": [
    "In this notebook, Data Science tools and Ecosystem are summarized."
   ]
  },
  {
   "attachments": {},
   "cell_type": "markdown",
   "id": "1d13f842-1012-4477-b596-90ef452c8009",
   "metadata": {},
   "source": [
    "**Objectives:**\n",
    "- List Popular languages for Data Science\n",
    "- List Commonly used libraries for Data Science\n",
    "- List Data Science Tools\n",
    "- Use Python to evaluate arithmetic expressions"
   ]
  },
  {
   "attachments": {},
   "cell_type": "markdown",
   "id": "7ddc6a6e-d3b1-42d1-94e1-76c84f4e0c81",
   "metadata": {},
   "source": [
    "Some of the popular languages that data scientists use are:\n",
    "1. Python\n",
    "2. R\n",
    "3. Julia\n",
    "4. Scala"
   ]
  },
  {
   "attachments": {},
   "cell_type": "markdown",
   "id": "03d53ed3-5632-4e17-824a-6a5a4146fbc1",
   "metadata": {},
   "source": [
    "Some of the commonly used libraries used by data scientists include:\n",
    "1. Pandas\n",
    "2. Numpy\n",
    "3. Scipy\n",
    "4. Matplotlib"
   ]
  },
  {
   "attachments": {},
   "cell_type": "markdown",
   "id": "b78fd609-9883-4277-9cf7-bdf40dbeffab",
   "metadata": {},
   "source": [
    "| Data Science Tools|\n",
    "|----|\n",
    "|Jupyter|\n",
    "|Rstudio|\n",
    "|Spyder|"
   ]
  },
  {
   "attachments": {},
   "cell_type": "markdown",
   "id": "886ae39c-44ff-4d9d-90d5-3cc1806474db",
   "metadata": {},
   "source": [
    "### Below are a few examples of evaluating arithmetic expressions in Python."
   ]
  },
  {
   "cell_type": "code",
   "execution_count": 2,
   "id": "3b801565-a8be-4378-8105-a0b95d7bcc38",
   "metadata": {
    "tags": []
   },
   "outputs": [
    {
     "data": {
      "text/plain": [
       "17"
      ]
     },
     "execution_count": 2,
     "metadata": {},
     "output_type": "execute_result"
    }
   ],
   "source": [
    "# This is a simple arithmetic expression to multiply then add integers.\n",
    "(3*4)+5"
   ]
  },
  {
   "cell_type": "code",
   "execution_count": 3,
   "id": "efe41524-9088-4958-8bcc-8c1143e3206e",
   "metadata": {
    "tags": []
   },
   "outputs": [
    {
     "data": {
      "text/plain": [
       "3.3333333333333335"
      ]
     },
     "execution_count": 3,
     "metadata": {},
     "output_type": "execute_result"
    }
   ],
   "source": [
    "# This will convert minutes to hours by dividing by 60.\n",
    "200 / 60"
   ]
  },
  {
   "attachments": {},
   "cell_type": "markdown",
   "id": "36f00a1e-e027-4f43-861d-72cc9c145736",
   "metadata": {
    "tags": []
   },
   "source": [
    "## Author\n",
    "Alex Van Buren"
   ]
  }
 ],
 "metadata": {
  "kernelspec": {
   "display_name": "Python",
   "language": "python",
   "name": "conda-env-python-py"
  },
  "language_info": {
   "codemirror_mode": {
    "name": "ipython",
    "version": 3
   },
   "file_extension": ".py",
   "mimetype": "text/x-python",
   "name": "python",
   "nbconvert_exporter": "python",
   "pygments_lexer": "ipython3",
   "version": "3.7.12"
  }
 },
 "nbformat": 4,
 "nbformat_minor": 5
}
